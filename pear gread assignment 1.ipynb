{
 "cells": [
  {
   "cell_type": "markdown",
   "metadata": {},
   "source": [
    "<center>\n",
    "    <img src=\"https://cf-courses-data.s3.us.cloud-object-storage.appdomain.cloud/IBMDeveloperSkillsNetwork-DS0105EN-SkillsNetwork/labs/Module2/images/SN_web_lightmode.png\" width=\"300\" alt=\"cognitiveclass.ai logo\">\n",
    "</center>\n"
   ]
  },
  {
   "cell_type": "markdown",
   "metadata": {},
   "source": [
    "# My Jupyter Notebook on IBM Watson Studio"
   ]
  },
  {
   "cell_type": "code",
   "execution_count": null,
   "metadata": {},
   "outputs": [],
   "source": []
  },
  {
   "cell_type": "markdown",
   "metadata": {},
   "source": [
    "#### Ankit Choudhary\n",
    "Data Scientist"
   ]
  },
  {
   "cell_type": "code",
   "execution_count": null,
   "metadata": {},
   "outputs": [],
   "source": []
  },
  {
   "cell_type": "markdown",
   "metadata": {},
   "source": [
    "#### List of data science language\n",
    "\n",
    "1.  Python\n",
    "2.  R\n",
    "3.  SQL\n",
    "4.  Scala\n",
    "5.  Java\n",
    "6.  JavaScript\n",
    "7.  C++\n",
    "8.  Julia\n"
   ]
  },
  {
   "cell_type": "code",
   "execution_count": null,
   "metadata": {},
   "outputs": [],
   "source": []
  },
  {
   "cell_type": "markdown",
   "metadata": {},
   "source": [
    "#### List data science libraries\n",
    "\n",
    "1.  python libraries:-  Pandas, Numpy, Matplotlib, seaborn, Scikit-learn, Keras, Tensor flow,  Pytorch, Apache spark\n",
    "2.  Scala libraries:-  Vegas, BigDL\n",
    "3.  R libraries:-  ggplot2\n"
   ]
  },
  {
   "cell_type": "code",
   "execution_count": null,
   "metadata": {},
   "outputs": [],
   "source": []
  },
  {
   "cell_type": "markdown",
   "metadata": {},
   "source": [
    "#### Data science tools\n",
    "\n",
    "|open source tools| comertial tools| Cloud based tools|\n",
    "|-----------------|----------------|------------------|\n",
    "|MySQL,PostgreSQL,MongoDB,Apache CouchDB,Apache Cassandra,hadoop,ceph,elastic search,apache airflow,kubeflow,apache kafka,apache nifi,apache spark sql,nodered,hue,kebanaapache superset,KNIME,Orange,ray,apache flink,apache spark,spyder,r studio,apache zepplin,jupyter,kylo,odpiegeria,apache atlas,git,ibm ai fairness 360,ibm adversarial robustness 360,IBM AI Explainability 360,ModelDB,Prometheus,Apache PredictionIO,Seldon,MLeap,TensorFlow Service,TensorFlow Lite,TensorFlow.JS|Oracle,Microsoft SQL Server,IBM DB2,Informatica Powercenter,IBM InfoSphere DataStage,SAP,SAS,Talen,Watson Studio Desktop,Tableau,Microsoft Power BI,IBM Cognos Analytics,Watson Studio Desktop,ModelDB,Prometheus,Apache PredictionIO,Seldon,MLeap,TensorFlow Service,TensorFlow Lite,TensorFlow.JS|Oracle,Microsoft SQL Server,IBM DB2,Informatica Powercenter,IBM InfoSphere DataStage,SAP,SAS,Talen,Watson Studio Desktop,SPSS Modeler,SAS Enterprise Miner,Informatica Enterprise Data Governance,IBM InfoSphere Information Governance Catalog,Watson Studio,H2O Driverless AI Watson Studio,Watson OpenScale,Microsoft Azure Machine Learning,H2O Driverless AI,Amazon Web Services,Cloudant,IBM offers DB2,Informatica Cloud Data Integration,IBM Data Refinery,DataMeer,IBM Data Refinery,Watson Machine Learning,Google AI Platform Training,SPSS Collaboration,SPSS Modeler,Watson Machine Learning,Amazon SageMaker Model Monitor|"
   ]
  },
  {
   "cell_type": "code",
   "execution_count": null,
   "metadata": {},
   "outputs": [],
   "source": []
  },
  {
   "cell_type": "markdown",
   "metadata": {},
   "source": [
    "#### arithmetic expression\n",
    "(+) for addition|\n",
    "(-) for subtraction|\n",
    "(*) for multiplication|\n",
    "(/) for devision|\n",
    "(%) for remainder|\n",
    "(//) for floor division|\n",
    "(**), for power of a value|"
   ]
  },
  {
   "cell_type": "code",
   "execution_count": null,
   "metadata": {},
   "outputs": [],
   "source": []
  },
  {
   "cell_type": "markdown",
   "metadata": {},
   "source": [
    "#### coad for multiply and add 2 no"
   ]
  },
  {
   "cell_type": "code",
   "execution_count": 3,
   "metadata": {},
   "outputs": [
    {
     "name": "stdin",
     "output_type": "stream",
     "text": [
      "enter 1 no: 5\n",
      "enter 2 no: 8\n"
     ]
    },
    {
     "name": "stdout",
     "output_type": "stream",
     "text": [
      "sum of given value is=13\n",
      "multiply of given value is=40\n"
     ]
    }
   ],
   "source": [
    "a = int(input(\"enter 1 no:\"))\n",
    "b = int(input(\"enter 2 no:\"))\n",
    "print(f\"sum of given value is={a+b}\")\n",
    "print(f\"multiply of given value is={a*b}\")"
   ]
  },
  {
   "cell_type": "markdown",
   "metadata": {},
   "source": [
    "#### coad for convert minuts to hours"
   ]
  },
  {
   "cell_type": "code",
   "execution_count": 8,
   "metadata": {},
   "outputs": [
    {
     "name": "stdin",
     "output_type": "stream",
     "text": [
      "enter minuts value 240\n"
     ]
    },
    {
     "name": "stdout",
     "output_type": "stream",
     "text": [
      "hours in given minuts is= 4.0\n"
     ]
    }
   ],
   "source": [
    "a = int(input(\"enter minuts value\"))\n",
    "hour = a/60\n",
    "print(\"hours in given minuts is=\",hour)"
   ]
  },
  {
   "cell_type": "code",
   "execution_count": null,
   "metadata": {},
   "outputs": [],
   "source": []
  },
  {
   "cell_type": "markdown",
   "metadata": {},
   "source": [
    "#### objectives,\n",
    "The objective of the data scientist is to explore, sort and analyze megadata from various sources in order to take advantage of them and reach conclusions to optimize business processes or for decision support."
   ]
  },
  {
   "cell_type": "code",
   "execution_count": null,
   "metadata": {},
   "outputs": [],
   "source": []
  },
  {
   "cell_type": "markdown",
   "metadata": {},
   "source": [
    "#### Author’s name.\n",
    "\n",
    "Ankit Choudhary"
   ]
  },
  {
   "cell_type": "code",
   "execution_count": null,
   "metadata": {},
   "outputs": [],
   "source": []
  }
 ],
 "metadata": {
  "kernelspec": {
   "display_name": "Python",
   "language": "python",
   "name": "conda-env-python-py"
  },
  "language_info": {
   "codemirror_mode": {
    "name": "ipython",
    "version": 3
   },
   "file_extension": ".py",
   "mimetype": "text/x-python",
   "name": "python",
   "nbconvert_exporter": "python",
   "pygments_lexer": "ipython3",
   "version": "3.7.12"
  }
 },
 "nbformat": 4,
 "nbformat_minor": 4
}
